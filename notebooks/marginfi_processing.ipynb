{
 "cells": [
  {
   "cell_type": "markdown",
   "id": "78c50a91",
   "metadata": {},
   "source": [
    "# MarginFi\n",
    "\n",
    "This notebook processes MarginFi events to get to the current state of all their loans. The data is then use to produce the main chart - liquidable debt vs. available supply."
   ]
  },
  {
   "cell_type": "code",
   "execution_count": null,
   "id": "1765e929",
   "metadata": {},
   "outputs": [],
   "source": [
    "%load_ext autoreload\n",
    "%autoreload 2"
   ]
  },
  {
   "cell_type": "code",
   "execution_count": null,
   "id": "72262118",
   "metadata": {},
   "outputs": [],
   "source": [
    "import logging\n",
    "import sys\n",
    "\n",
    "sys.path.append('..')\n",
    "\n",
    "import src.loans.marginfi\n",
    "\n",
    "\n",
    "\n",
    "logging.basicConfig(level=logging.INFO)"
   ]
  },
  {
   "cell_type": "markdown",
   "id": "849aab89",
   "metadata": {},
   "source": [
    "## Prepare events"
   ]
  },
  {
   "cell_type": "code",
   "execution_count": null,
   "id": "58dc61bf",
   "metadata": {},
   "outputs": [],
   "source": [
    "state = src.loans.marginfi.MarginFiState(\n",
    "    verbose_users={'HrD37nAyABXZUvmRzQ2JWGxvGgA9jC11cDbkKthmio3V'},\n",
    ")"
   ]
  },
  {
   "cell_type": "code",
   "execution_count": null,
   "id": "ddd692cb",
   "metadata": {},
   "outputs": [],
   "source": [
    "state.get_unprocessed_events()\n",
    "state.unprocessed_events"
   ]
  },
  {
   "cell_type": "markdown",
   "id": "5f1c1204",
   "metadata": {},
   "source": [
    "## Process events"
   ]
  },
  {
   "cell_type": "code",
   "execution_count": null,
   "id": "5294ab35",
   "metadata": {},
   "outputs": [],
   "source": [
    "state.process_unprocessed_events()"
   ]
  }
 ],
 "metadata": {
  "kernelspec": {
   "display_name": "Python 3 (ipykernel)",
   "language": "python",
   "name": "python3"
  },
  "language_info": {
   "codemirror_mode": {
    "name": "ipython",
    "version": 3
   },
   "file_extension": ".py",
   "mimetype": "text/x-python",
   "name": "python",
   "nbconvert_exporter": "python",
   "pygments_lexer": "ipython3",
   "version": "3.10.13"
  }
 },
 "nbformat": 4,
 "nbformat_minor": 5
}
