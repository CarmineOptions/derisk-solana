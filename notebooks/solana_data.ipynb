{
 "cells": [
  {
   "cell_type": "code",
   "execution_count": null,
   "id": "3fd6fe33-248e-4571-8b49-6a5e0b0340b5",
   "metadata": {},
   "outputs": [],
   "source": [
    "import solana.rpc.api"
   ]
  },
  {
   "cell_type": "code",
   "execution_count": null,
   "id": "ac3cd8a2-e737-47d6-8097-c184c9a9d35b",
   "metadata": {},
   "outputs": [],
   "source": [
    "solana_client = solana.rpc.api.Client(\"https://docs-demo.solana-mainnet.quiknode.pro/\") # RPC url - now it's just some demo i found on internet\n",
    "\n",
    "\n",
    "res = solana_client.get_signatures_for_address(\n",
    "    solana.rpc.api.Pubkey.from_string('4MangoMjqJ2firMokCjjGgoK8d4MXcrgL7XJaL3w6fVg'), # Address \n",
    "    limit = 100,\n",
    "    # before =  # pass some signature here to fetch txs before that one (when fetching more distant history)\n",
    ")\n",
    "\n",
    "transaction = solana_client.get_transaction(\n",
    "    res.value[0].signature, \n",
    "    'jsonParsed', \n",
    "    max_supported_transaction_version=0\n",
    ")"
   ]
  },
  {
   "cell_type": "code",
   "execution_count": null,
   "id": "4a22b4ce-9599-4910-9161-d239c0cc92ce",
   "metadata": {},
   "outputs": [],
   "source": [
    "# Explore a single transaction.\n",
    "transaction"
   ]
  },
  {
   "cell_type": "code",
   "execution_count": null,
   "id": "d172e853-3435-44d7-8e77-1472fae6e47a",
   "metadata": {},
   "outputs": [],
   "source": [
    "# TODO: Should we also care about 'Program logged: '?\n",
    "DATA_SUBSTRING = 'Program data: '\n",
    "\n",
    "\n",
    "# Extract relevant information.\n",
    "print('***GENERAL***')\n",
    "print(f'Block number = {transaction.value.slot}.')\n",
    "print(f'Timestamp = {transaction.value.block_time}.')\n",
    "print(f'Transaction hash = {transaction.value.transaction.transaction.signatures[0]}.')\n",
    "\n",
    "print('\\n***INSTRUCTIONS***')\n",
    "for i, instruction in enumerate(transaction.value.transaction.transaction.message.instructions):\n",
    "    # TODO: Would it be useful to filter relevant data based in these addresses?\n",
    "    print(f'Instruction = {i}, address = {instruction.program_id}.')\n",
    "    # TODO: This might be useful, but needs to be decoded first.\n",
    "    print(f'Instruction = {i}, data = {instruction.data}.')\n",
    "\n",
    "print('\\n***META***')\n",
    "# TODO: The lengths (and thus also likely the order) of the balances correspond to the length of \n",
    "# `transaction.value.transaction.transaction.message.account_keys`, but are the balances relevant?\n",
    "print(f'Pre-balances = {transaction.value.transaction.meta.pre_balances}.')\n",
    "print(f'Post-balances = {transaction.value.transaction.meta.post_balances}.')\n",
    "data_logs = [x for x in transaction.value.transaction.meta.log_messages if DATA_SUBSTRING in x]\n",
    "assert len(data_logs) == 1\n",
    "data_hash = data_logs[0].replace(DATA_SUBSTRING, '')\n",
    "print(f'Data hash = {data_hash}.')"
   ]
  }
 ],
 "metadata": {
  "kernelspec": {
   "display_name": "Python 3 (ipykernel)",
   "language": "python",
   "name": "python3"
  },
  "language_info": {
   "codemirror_mode": {
    "name": "ipython",
    "version": 3
   },
   "file_extension": ".py",
   "mimetype": "text/x-python",
   "name": "python",
   "nbconvert_exporter": "python",
   "pygments_lexer": "ipython3",
   "version": "3.9.2"
  }
 },
 "nbformat": 4,
 "nbformat_minor": 5
}
