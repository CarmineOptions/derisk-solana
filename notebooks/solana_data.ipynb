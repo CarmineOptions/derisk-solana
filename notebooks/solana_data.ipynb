{
 "cells": [
  {
   "cell_type": "code",
   "execution_count": null,
   "id": "3fd6fe33-248e-4571-8b49-6a5e0b0340b5",
   "metadata": {},
   "outputs": [],
   "source": [
    "import solana.rpc.api"
   ]
  },
  {
   "cell_type": "code",
   "execution_count": null,
   "id": "ac3cd8a2-e737-47d6-8097-c184c9a9d35b",
   "metadata": {},
   "outputs": [],
   "source": [
    "solana_client = solana.rpc.api.Client(\"https://docs-demo.solana-mainnet.quiknode.pro/\") # RPC url - now it's just some demo i found on internet\n",
    "\n",
    "\n",
    "res = solana_client.get_signatures_for_address(\n",
    "    solana.rpc.api.Pubkey.from_string('4MangoMjqJ2firMokCjjGgoK8d4MXcrgL7XJaL3w6fVg'), # Address \n",
    "    limit = 100,\n",
    "    # before =  # pass some signature here to fetch txs before that one (when fetching more distant history)\n",
    ")\n",
    "\n",
    "transaction = solana_client.get_transaction(\n",
    "    res.value[0].signature, \n",
    "    'jsonParsed', \n",
    "    max_supported_transaction_version=0\n",
    ")"
   ]
  },
  {
   "cell_type": "code",
   "execution_count": null,
   "id": "1a06e592-8cfe-44e3-9e50-28d9802b8d89",
   "metadata": {},
   "outputs": [],
   "source": [
    "res.value"
   ]
  },
  {
   "cell_type": "code",
   "execution_count": null,
   "id": "6a4bb658-398e-41ca-8b8c-98c0a8236a4b",
   "metadata": {},
   "outputs": [],
   "source": [
    "# type(transaction)\n",
    "transaction"
   ]
  },
  {
   "cell_type": "code",
   "execution_count": null,
   "id": "ed20a5b5-561d-46c9-bd29-363ff0e4f203",
   "metadata": {},
   "outputs": [],
   "source": []
  },
  {
   "cell_type": "code",
   "execution_count": null,
   "id": "e286d8a4-6990-47e5-a450-6afe51087784",
   "metadata": {},
   "outputs": [],
   "source": []
  },
  {
   "cell_type": "code",
   "execution_count": null,
   "id": "44b4b5f2-890e-4b32-8b95-9d1eb5097088",
   "metadata": {},
   "outputs": [],
   "source": []
  },
  {
   "cell_type": "code",
   "execution_count": null,
   "id": "5c9f1fdc-fc28-440e-a08b-036131a8f63e",
   "metadata": {},
   "outputs": [],
   "source": []
  },
  {
   "cell_type": "code",
   "execution_count": null,
   "id": "a0b5aa46-f81c-4fd3-b129-93e0239bef6d",
   "metadata": {},
   "outputs": [],
   "source": []
  }
 ],
 "metadata": {
  "kernelspec": {
   "display_name": "Python 3 (ipykernel)",
   "language": "python",
   "name": "python3"
  },
  "language_info": {
   "codemirror_mode": {
    "name": "ipython",
    "version": 3
   },
   "file_extension": ".py",
   "mimetype": "text/x-python",
   "name": "python",
   "nbconvert_exporter": "python",
   "pygments_lexer": "ipython3",
   "version": "3.9.2"
  }
 },
 "nbformat": 4,
 "nbformat_minor": 5
}
