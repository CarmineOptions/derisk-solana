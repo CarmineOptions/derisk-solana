{
 "cells": [
  {
   "cell_type": "markdown",
   "metadata": {},
   "source": [
    "# Examples of fetching OB-based DEX liquidity on Solana"
   ]
  },
  {
   "cell_type": "code",
   "execution_count": null,
   "metadata": {},
   "outputs": [],
   "source": [
    "import time\n",
    "import sys\n",
    "sys.path.append('..')\n",
    "\n",
    "from solana.publickey import PublicKey\n",
    "\n",
    "from src.protocols.dexes.pairs import PAIRS"
   ]
  },
  {
   "cell_type": "markdown",
   "metadata": {},
   "source": [
    "## Phoenix\n",
    "\n",
    "- Markets: https://github.com/Ellipsis-Labs/phoenix-sdk/blob/afb23a9db6c745159e12781bea363044c8831cb7/master_config.json#L163"
   ]
  },
  {
   "cell_type": "code",
   "execution_count": null,
   "metadata": {},
   "outputs": [],
   "source": [
    "from phoenix.client import PhoenixClient\n",
    "\n",
    "phoenix_client = PhoenixClient()\n",
    "phoenix_identifier = 'PHOENIX'\n",
    "\n",
    "phoenix_order_books = {}\n",
    "\n",
    "for pair in PAIRS.keys(): \n",
    "    phoenix_market_address = PAIRS[pair].get(phoenix_identifier, None)\n",
    "    if phoenix_market_address:\n",
    "        print(f'{phoenix_identifier} : {pair}')\n",
    "        market_pubkey = PublicKey(phoenix_market_address)\n",
    "        \n",
    "        phoenix_order_books[pair] =  {}\n",
    "        \n",
    "        ob =  await phoenix_client.get_l2_book(market_pubkey) # type: ignore\n",
    "        \n",
    "        phoenix_order_books[pair]['bids'] = ob.bids\n",
    "        phoenix_order_books[pair]['asks'] = ob.asks\n",
    "        \n",
    "        time.sleep(1)"
   ]
  },
  {
   "cell_type": "markdown",
   "metadata": {},
   "source": [
    "## OpenBook\n"
   ]
  },
  {
   "cell_type": "code",
   "execution_count": null,
   "metadata": {},
   "outputs": [],
   "source": [
    "from pyserum.connection import conn\n",
    "from pyserum.market import Market\n",
    "\n",
    "openbook_client = conn(\"https://api.mainnet-beta.solana.com/\")\n",
    "openbook_identifier = 'OPENBOOK'\n",
    "\n",
    "openbook_order_books = {}\n",
    "\n",
    "for pair in PAIRS.keys(): \n",
    "    openbook_market_address = PAIRS[pair].get(openbook_identifier, None)\n",
    "    if openbook_market_address:\n",
    "        ticker = PublicKey(openbook_market_address)\n",
    "        print(f'{openbook_identifier} : {pair}')\n",
    "        market = Market.load(openbook_client, ticker)\n",
    "        \n",
    "        openbook_order_books[pair] = {}\n",
    "\n",
    "\n",
    "        openbook_order_books[pair] = market.load_asks().get_l2(100)\n",
    "        openbook_order_books[pair] = market.load_bids().get_l2(100)\n",
    "\n",
    "        time.sleep(1)"
   ]
  }
 ],
 "metadata": {
  "kernelspec": {
   "display_name": "derisk_solana_venv",
   "language": "python",
   "name": "python3"
  },
  "language_info": {
   "codemirror_mode": {
    "name": "ipython",
    "version": 3
   },
   "file_extension": ".py",
   "mimetype": "text/x-python",
   "name": "python",
   "nbconvert_exporter": "python",
   "pygments_lexer": "ipython3",
   "version": "3.10.13"
  }
 },
 "nbformat": 4,
 "nbformat_minor": 2
}
