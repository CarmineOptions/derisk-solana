{
 "cells": [
  {
   "cell_type": "code",
   "execution_count": null,
   "id": "eeca4a7d",
   "metadata": {},
   "outputs": [],
   "source": [
    "import json\n",
    "\n",
    "\n",
    "from src.event_parser import EventDecoder\n",
    "\n",
    "\n",
    "%load_ext autoreload\n",
    "%autoreload 2"
   ]
  },
  {
   "cell_type": "code",
   "execution_count": null,
   "id": "6233de46",
   "metadata": {},
   "outputs": [],
   "source": [
    "# some random data - expected event: \n",
    "program_data = 'dZKDSrOa27JbF8fIam5zn68XUYGDY+lPkIvzcATObT+88Ze90vUfHAMAciRhcXkQURwAAAAAAAAAAHIkYXF5EFEcAAAAAAAAAADE4tumMfvqCQAAAAAAAAAAZz5zDgAAAAC84t9SD3gBAAAAAAAAAAAAAABnb4YDieoJAAAAAAAAAAC4YN6RBROBUwdaAAAAAAAASPdg8Okq6H/PggAAAAAAAORtEAAAAAAAq7UNyTEAAAAAAAAAAAAAAA=='"
   ]
  },
  {
   "cell_type": "code",
   "execution_count": null,
   "id": "11fc5ffd",
   "metadata": {},
   "outputs": [],
   "source": [
    "with open('../mango_v4.json') as fp:\n",
    "    event_decoder = EventDecoder(json.load(fp))"
   ]
  },
  {
   "cell_type": "code",
   "execution_count": null,
   "id": "2d6f631b",
   "metadata": {},
   "outputs": [],
   "source": [
    "for n, l in event_decoder.layouts.items():\n",
    "    print(f\"{n}:\")\n",
    "    for fld in l:\n",
    "        print(fld)"
   ]
  }
 ],
 "metadata": {
  "kernelspec": {
   "display_name": "Python 3",
   "language": "python",
   "name": "python3"
  },
  "language_info": {
   "codemirror_mode": {
    "name": "ipython",
    "version": 3
   },
   "file_extension": ".py",
   "mimetype": "text/x-python",
   "name": "python",
   "nbconvert_exporter": "python",
   "pygments_lexer": "ipython3",
   "version": "3.6.9"
  }
 },
 "nbformat": 4,
 "nbformat_minor": 5
}
