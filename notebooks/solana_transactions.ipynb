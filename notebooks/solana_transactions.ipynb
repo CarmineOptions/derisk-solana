{
 "cells": [
  {
   "cell_type": "code",
   "execution_count": null,
   "id": "8c6c5e9f-ba4d-4436-8b08-176010ab2c72",
   "metadata": {},
   "outputs": [],
   "source": [
    "%load_ext autoreload\n",
    "%autoreload 2"
   ]
  },
  {
   "cell_type": "code",
   "execution_count": null,
   "id": "3fd6fe33-248e-4571-8b49-6a5e0b0340b5",
   "metadata": {},
   "outputs": [],
   "source": [
    "import base64\n",
    "import sys\n",
    "\n",
    "import solana.rpc.api\n",
    "\n",
    "sys.path.append('..')\n",
    "\n",
    "import settings.addresses"
   ]
  },
  {
   "cell_type": "code",
   "execution_count": null,
   "id": "ac3cd8a2-e737-47d6-8097-c184c9a9d35b",
   "metadata": {},
   "outputs": [],
   "source": [
    "# DOES NOT RETURN THE SAME OBJECT. Some transactions would not have data hash e.g.:\n",
    "# without hash:\n",
    "# Block number = 242197066.\n",
    "# Timestamp = 1705424747.\n",
    "# Transaction hash = ufSrdp8F61GAZ7TvM8g2hCrDVLM3NFjBjvMmdcnNMJGByg1v5mBbEyNCrb8ZWQoJsKSEEbYp2G9fePsv5YHbarQ.\n",
    "# with hash:\n",
    "# Block number = 242198179.\n",
    "# Timestamp = 1705425225.\n",
    "# Transaction hash = 4RJ4r1irMjuPdysHBNFQBnWCTE7AuZe4fMBJjivStfACkV1m2r1USW9ZXK7Xpdg9fW5JcEqRr8PggNQAgZPTHcWr.\n",
    "\n",
    "\n",
    "# TODO: https://api.mainnet-beta.solana.com\n",
    "solana_client = solana.rpc.api.Client(\"https://docs-demo.solana-mainnet.quiknode.pro/\") # RPC url - now it's just some demo i found on internet\n",
    "\n",
    "\n",
    "res = solana_client.get_signatures_for_address(\n",
    "    solana.rpc.api.Pubkey.from_string(settings.addresses.MANGO_ADDRESS), # Address \n",
    "    limit = 100,\n",
    "    # before =  # pass some signature here to fetch txs before that one (when fetching more distant history)\n",
    ")\n",
    "\n",
    "transaction = solana_client.get_transaction(\n",
    "    res.value[0].signature, \n",
    "    'jsonParsed', \n",
    "    max_supported_transaction_version=0\n",
    ")"
   ]
  },
  {
   "cell_type": "code",
   "execution_count": null,
   "id": "4a22b4ce-9599-4910-9161-d239c0cc92ce",
   "metadata": {},
   "outputs": [],
   "source": [
    "# Explore a single transaction.\n",
    "transaction"
   ]
  },
  {
   "cell_type": "code",
   "execution_count": null,
   "id": "d172e853-3435-44d7-8e77-1472fae6e47a",
   "metadata": {},
   "outputs": [],
   "source": [
    "# TODO: Should we also care about 'Program logged: '?\n",
    "DATA_SUBSTRING = 'Program data: '\n",
    "\n",
    "\n",
    "# Extract relevant information.\n",
    "print('***GENERAL***')\n",
    "print(f'Block number = {transaction.value.slot}.')\n",
    "print(f'Timestamp = {transaction.value.block_time}.')\n",
    "print(f'Transaction hash = {transaction.value.transaction.transaction.signatures[0]}.')\n",
    "\n",
    "print('\\n***INSTRUCTIONS***')\n",
    "for i, instruction in enumerate(transaction.value.transaction.transaction.message.instructions):\n",
    "    # TODO: Would it be useful to filter relevant data based in these addresses?\n",
    "    print(f'Instruction = {i}, address = {instruction.program_id}.')\n",
    "    # TODO: This might be useful, but needs to be decoded first.\n",
    "    print(f'Instruction = {i}, data = {instruction.data}.')\n",
    "\n",
    "print('\\n***META***')\n",
    "# TODO: The lengths (and thus also likely the order) of the balances correspond to the length of \n",
    "# `transaction.value.transaction.transaction.message.account_keys`, but are the balances relevant?\n",
    "print(f'Pre-balances = {transaction.value.transaction.meta.pre_balances}.')\n",
    "print(f'Post-balances = {transaction.value.transaction.meta.post_balances}.')\n",
    "data_logs = [x for x in transaction.value.transaction.meta.log_messages if DATA_SUBSTRING in x]\n",
    "assert len(data_logs) == 1\n",
    "data_hash = data_logs[0].replace(DATA_SUBSTRING, '')\n",
    "print(f'Data hash = {data_hash}.')"
   ]
  },
  {
   "cell_type": "code",
   "execution_count": null,
   "id": "91530941-4dbf-428d-b58b-c0d8a39f2ff0",
   "metadata": {},
   "outputs": [],
   "source": [
    "log_messages = transaction.value.transaction.meta.log_messages\n",
    "\n",
    "program_data = next((i for i in log_messages if i.startswith('Program data: ')))\n",
    "encoded_data = program_data.split(' ')[-1]\n",
    "\n",
    "print(f'{DATA_SUBSTRING} {encoded_data}')\n",
    "\n",
    "decoded_bytes = base64.b64decode(encoded_data).hex()\n",
    "print(f'Decoded program data: {decoded_bytes}')"
   ]
  },
  {
   "cell_type": "code",
   "execution_count": null,
   "id": "a9a262b9-e89e-429f-98a2-fab355d1791f",
   "metadata": {},
   "outputs": [],
   "source": []
  }
 ],
 "metadata": {
  "kernelspec": {
   "display_name": "Python 3 (ipykernel)",
   "language": "python",
   "name": "python3"
  },
  "language_info": {
   "codemirror_mode": {
    "name": "ipython",
    "version": 3
   },
   "file_extension": ".py",
   "mimetype": "text/x-python",
   "name": "python",
   "nbconvert_exporter": "python",
   "pygments_lexer": "ipython3",
   "version": "3.10.13"
  }
 },
 "nbformat": 4,
 "nbformat_minor": 5
}
