{
 "cells": [
  {
   "cell_type": "code",
   "execution_count": null,
   "id": "eeca4a7d",
   "metadata": {},
   "outputs": [],
   "source": [
    "%load_ext autoreload\n",
    "%autoreload 2"
   ]
  },
  {
   "cell_type": "code",
   "execution_count": null,
   "id": "ac522d3c-5d6b-4c7f-84e0-0d314599e835",
   "metadata": {},
   "outputs": [],
   "source": [
    "import json\n",
    "import sys\n",
    "\n",
    "sys.path.append('..')\n",
    "\n",
    "import settings.idl_paths\n",
    "import src.event_parser"
   ]
  },
  {
   "cell_type": "code",
   "execution_count": null,
   "id": "6233de46",
   "metadata": {},
   "outputs": [],
   "source": [
    "# some random data - expected event: \n",
    "program_data = 'dZKDSrOa27JbF8fIam5zn68XUYGDY+lPkIvzcATObT+88Ze90vUfHAMAciRhcXkQURwAAAAAAAAAAHIkYXF5EFEcAAAAAAAAAADE4tumMfvqCQAAAAAAAAAAZz5zDgAAAAC84t9SD3gBAAAAAAAAAAAAAABnb4YDieoJAAAAAAAAAAC4YN6RBROBUwdaAAAAAAAASPdg8Okq6H/PggAAAAAAAORtEAAAAAAAq7UNyTEAAAAAAAAAAAAAAA=='"
   ]
  },
  {
   "cell_type": "code",
   "execution_count": null,
   "id": "11fc5ffd",
   "metadata": {},
   "outputs": [],
   "source": [
    "with open(settings.idl_paths.MANGO_IDL_PATH) as mango_idl:\n",
    "    event_decoder = src.event_parser.EventDecoder(json.load(mango_idl))"
   ]
  },
  {
   "cell_type": "code",
   "execution_count": null,
   "id": "2d6f631b",
   "metadata": {},
   "outputs": [],
   "source": [
    "for name, layout in event_decoder.layouts.items():\n",
    "    print(f\"{name}:\")\n",
    "    for event_layout in layout.fields:\n",
    "        print(event_layout)"
   ]
  },
  {
   "cell_type": "code",
   "execution_count": null,
   "id": "dd9c7a97-ce71-4e68-bae1-fbb6dc8ba8ba",
   "metadata": {},
   "outputs": [],
   "source": []
  }
 ],
 "metadata": {
  "kernelspec": {
   "display_name": "Python 3 (ipykernel)",
   "language": "python",
   "name": "python3"
  },
  "language_info": {
   "codemirror_mode": {
    "name": "ipython",
    "version": 3
   },
   "file_extension": ".py",
   "mimetype": "text/x-python",
   "name": "python",
   "nbconvert_exporter": "python",
   "pygments_lexer": "ipython3",
   "version": "3.10.13"
  }
 },
 "nbformat": 4,
 "nbformat_minor": 5
}
