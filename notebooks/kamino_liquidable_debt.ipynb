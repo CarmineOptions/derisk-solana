{
 "cells": [
  {
   "cell_type": "markdown",
   "id": "70581bcd",
   "metadata": {},
   "source": [
    "# Kamino\n",
    "\n",
    "This notebook processes Kamino loan states to get to the liquidable debt of the protocol. The data will then used to produce the main chart - liquidable debt vs. available supply."
   ]
  },
  {
   "cell_type": "code",
   "execution_count": null,
   "id": "1765e929",
   "metadata": {},
   "outputs": [],
   "source": [
    "%load_ext autoreload\n",
    "%autoreload 2"
   ]
  },
  {
   "cell_type": "code",
   "execution_count": null,
   "id": "8180a55c",
   "metadata": {},
   "outputs": [],
   "source": [
    "from IPython.display import display, HTML\n",
    "display(HTML(\"<style>.container { width:100% !important; }</style>\"))"
   ]
  },
  {
   "cell_type": "code",
   "execution_count": null,
   "id": "7ddb0f23",
   "metadata": {},
   "outputs": [],
   "source": [
    "import collections\n",
    "import decimal\n",
    "import logging\n",
    "import sys\n",
    "\n",
    "import pandas\n",
    "\n",
    "sys.path.append('..')\n",
    "\n",
    "import src.kamino_vault_map\n",
    "import src.loans.kamino\n",
    "import src.prices\n",
    "import src.visualizations.main_chart\n",
    "\n",
    "\n",
    "logging.basicConfig(level=logging.INFO)"
   ]
  },
  {
   "cell_type": "markdown",
   "id": "39742511",
   "metadata": {},
   "source": [
    "## Compute liquidable debt and available supply at various prices"
   ]
  },
  {
   "cell_type": "code",
   "execution_count": null,
   "id": "cd848020",
   "metadata": {},
   "outputs": [],
   "source": [
    "import db\n",
    "import src.loans.loan_state\n",
    "\n",
    "\n",
    "protocol = 'kamino'\n",
    "session = db.get_db_session()\n",
    "\n",
    "current_loan_states = src.loans.loan_state.fetch_loan_states(protocol, session)"
   ]
  },
  {
   "cell_type": "code",
   "execution_count": null,
   "id": "8444e32c",
   "metadata": {},
   "outputs": [],
   "source": [
    "state = src.loans.kamino.KaminoState(\n",
    "    verbose_users={'HrD37nAyABXZUvmRzQ2JWGxvGgA9jC11cDbkKthmio3V'},\n",
    "    initial_loan_states=current_loan_states,\n",
    ")"
   ]
  },
  {
   "cell_type": "code",
   "execution_count": null,
   "id": "6b1d89dc",
   "metadata": {},
   "outputs": [],
   "source": [
    "collateral = [x.collateral for x in state.loan_entities.values()]\n",
    "collateral_per_token = collections.defaultdict(decimal.Decimal)\n",
    "for user_collateral in collateral:\n",
    "    for token, amount in user_collateral.items():\n",
    "        collateral_per_token[token] += amount\n",
    "collateral_tokens = {x for x in collateral_per_token.keys()}"
   ]
  },
  {
   "cell_type": "code",
   "execution_count": null,
   "id": "a6642732",
   "metadata": {},
   "outputs": [],
   "source": [
    "debt = [x.debt for x in state.loan_entities.values()]\n",
    "debt_per_token = collections.defaultdict(decimal.Decimal)\n",
    "for user_debt in debt:\n",
    "    for token, amount in user_debt.items():\n",
    "        debt_per_token[token] += amount\n",
    "debt_tokens = {x for x in debt_per_token.keys()}"
   ]
  },
  {
   "cell_type": "code",
   "execution_count": null,
   "id": "8d76a3f4",
   "metadata": {
    "scrolled": true
   },
   "outputs": [],
   "source": [
    "for collateral_token in collateral_tokens:\n",
    "    current_loan_states[f'collateral_{collateral_token}'] = current_loan_states['collateral'].apply(lambda x: x[collateral_token] if collateral_token in x else decimal.Decimal('0'))\n",
    "for debt_token in debt_tokens:\n",
    "    current_loan_states[f'debt_{debt_token}'] = current_loan_states['debt'].apply(lambda x: x[debt_token] if debt_token in x else decimal.Decimal('0'))"
   ]
  },
  {
   "cell_type": "code",
   "execution_count": null,
   "id": "cdbad10e",
   "metadata": {},
   "outputs": [],
   "source": [
    "# Get prices.\n",
    "underlying_collateral_tokens = [\n",
    "    src.kamino_vault_map.lp_to_mint_map[x]\n",
    "    for x in collateral_tokens\n",
    "    if x in src.kamino_vault_map.lp_to_mint_map\n",
    "]\n",
    "underlying_debt_tokens = [\n",
    "    src.kamino_vault_map.supply_vault_to_mint_map[x]\n",
    "    for x in debt_tokens\n",
    "    if x in src.kamino_vault_map.supply_vault_to_mint_map\n",
    "]\n",
    "token_prices = src.prices.get_prices_for_tokens(underlying_collateral_tokens + underlying_debt_tokens)\n",
    "token_prices"
   ]
  },
  {
   "cell_type": "code",
   "execution_count": null,
   "id": "ab12aad1",
   "metadata": {},
   "outputs": [],
   "source": [
    "collateral_token_parameters = {\n",
    "    collateral_token: src.kamino_vault_map.lp_to_info_map.get(collateral_token, None)\n",
    "    for collateral_token\n",
    "    in collateral_tokens\n",
    "}\n",
    "collateral_token_parameters"
   ]
  },
  {
   "cell_type": "code",
   "execution_count": null,
   "id": "78a7a5c5",
   "metadata": {},
   "outputs": [],
   "source": [
    "debt_token_parameters = {\n",
    "    debt_token: src.kamino_vault_map.supply_to_info_map.get(debt_token, None)\n",
    "    for debt_token\n",
    "    in debt_tokens\n",
    "}\n",
    "debt_token_parameters"
   ]
  },
  {
   "cell_type": "code",
   "execution_count": null,
   "id": "8ec9d148",
   "metadata": {},
   "outputs": [],
   "source": [
    "for collateral_token in collateral_tokens:\n",
    "    if not collateral_token_parameters[collateral_token]:\n",
    "        continue\n",
    "    if not collateral_token_parameters[collateral_token]['underlying_decs']:\n",
    "        continue\n",
    "    decimals = collateral_token_parameters[collateral_token]['underlying_decs']\n",
    "    ltv = collateral_token_parameters[collateral_token]['ltv']\n",
    "    underlying_token = src.kamino_vault_map.lp_to_mint_map[collateral_token]\n",
    "    current_loan_states[f'collateral_usd_{collateral_token}'] = (\n",
    "        current_loan_states[f'collateral_{collateral_token}'].astype(float)\n",
    "        / (10**decimals)\n",
    "        * (ltv/100)\n",
    "        * token_prices[underlying_token]\n",
    "    )\n",
    "\n",
    "for debt_token in debt_tokens:\n",
    "    if not debt_token_parameters[debt_token]:\n",
    "        continue\n",
    "    if not debt_token_parameters[debt_token]['underlying_decs']:\n",
    "        continue\n",
    "    decimals = debt_token_parameters[debt_token]['underlying_decs']\n",
    "    ltv = debt_token_parameters[debt_token]['ltv']\n",
    "    underlying_token = src.kamino_vault_map.supply_vault_to_mint_map[debt_token]\n",
    "    current_loan_states[f'debt_usd_{debt_token}'] = (\n",
    "        current_loan_states[f'debt_{debt_token}'].astype(float)\n",
    "        / (10**decimals)\n",
    "        * (1/(ltv/100) if ltv else 1)\n",
    "        * token_prices[underlying_token]\n",
    "    )"
   ]
  },
  {
   "cell_type": "code",
   "execution_count": null,
   "id": "0703690f",
   "metadata": {},
   "outputs": [],
   "source": [
    "# Select tokens and perform computations for this pair.\n",
    "COLLATERAL_TOKEN = \"So11111111111111111111111111111111111111112\"  # SOL\n",
    "DEBT_TOKEN = \"EPjFWdd5AufqSSqeM2qN1xzybapC8G4wEGGkZwyTDt1v\"  # USDC\n",
    "\n",
    "\n",
    "mint_to_lp_map = {x: [] for x in src.kamino_vault_map.lp_to_mint_map.values()}\n",
    "for x, y in src.kamino_vault_map.lp_to_mint_map.items():\n",
    "    mint_to_lp_map[y].append(x)\n",
    "mint_to_supply_map = {x: [] for x in src.kamino_vault_map.supply_vault_to_mint_map.values()}\n",
    "for x, y in src.kamino_vault_map.supply_vault_to_mint_map.items():\n",
    "    mint_to_supply_map[y].append(x)\n",
    "collateral_token_price = token_prices[COLLATERAL_TOKEN]\n",
    "\n",
    "\n",
    "\n",
    "def compute_liquidable_debt_at_price(\n",
    "    loan_states: pandas.DataFrame,\n",
    "    token_prices: dict[str, float],\n",
    "    debt_token_parameters: dict[str, float],\n",
    "    collateral_token: str,\n",
    "    target_collateral_token_price: decimal.Decimal,\n",
    "    debt_token: str,\n",
    ") -> decimal.Decimal:\n",
    "    lp_collateral_tokens = mint_to_lp_map[collateral_token]\n",
    "    supply_collateral_tokens = mint_to_supply_map[collateral_token]\n",
    "\n",
    "    price_ratio = target_collateral_token_price / token_prices[collateral_token]\n",
    "    for lp_collateral_token in lp_collateral_tokens:\n",
    "        lp_collateral_column = f'collateral_usd_{lp_collateral_token}'\n",
    "        if lp_collateral_column in loan_states.columns:\n",
    "            loan_states[lp_collateral_column] = loan_states[lp_collateral_column] * price_ratio\n",
    "    for supply_collateral_token in supply_collateral_tokens:\n",
    "        supply_collateral_column = f'debt_usd_{supply_collateral_token}'\n",
    "        if supply_collateral_column in loan_states.columns:\n",
    "            loan_states[supply_collateral_column] = loan_states[supply_collateral_column] * price_ratio\n",
    "    loan_states['collateral_usd'] = loan_states[[x for x in loan_states.columns if 'collateral_usd_' in x]].sum(axis = 1)\n",
    "    loan_states['debt_usd'] = loan_states[[x for x in loan_states.columns if 'debt_usd_' in x]].sum(axis = 1)\n",
    "\n",
    "    loan_states['loan_to_value'] = loan_states['debt_usd'] / loan_states['collateral_usd']\n",
    "    liquidation_parameters = debt_token_parameters[supply_collateral_tokens[0]]\n",
    "    liquidation_threshold = (\n",
    "        liquidation_parameters['liquidation_threshold_pct'] / 100\n",
    "        if supply_collateral_tokens[0] in debt_token_parameters\n",
    "        else 0.5\n",
    "    )\n",
    "    loan_states['liquidable'] = loan_states['loan_to_value'] < liquidation_threshold\n",
    "    # 20% of the debt value is liquidated.\n",
    "    liquidable_debt_ratio = 0.2 * (\n",
    "        liquidation_parameters['min_liquidation_bonus_bps']\n",
    "        if supply_collateral_tokens[0] in debt_token_parameters\n",
    "        else 0.02\n",
    "    )\n",
    "    loan_states['debt_to_be_liquidated'] = liquidable_debt_ratio * loan_states['debt_usd'] * loan_states['liquidable']\n",
    "    return loan_states['debt_to_be_liquidated'].sum()\n",
    "\n",
    "\n",
    "\n",
    "data = pandas.DataFrame(\n",
    "    {\n",
    "        \"collateral_token_price\": src.visualizations.main_chart.get_token_range(collateral_token_price),\n",
    "    }\n",
    ")\n",
    "data\n",
    "\n",
    "# TODO: Compute liqidable debt.\n",
    "data['liquidable_debt'] = data['collateral_token_price'].apply(\n",
    "    lambda x: compute_liquidable_debt_at_price(\n",
    "        loan_states = current_loan_states.copy(),\n",
    "        token_prices = token_prices,\n",
    "        debt_token_parameters = debt_token_parameters,\n",
    "        collateral_token = COLLATERAL_TOKEN,\n",
    "        target_collateral_token_price = x,\n",
    "        debt_token = DEBT_TOKEN,\n",
    "    )\n",
    ")\n",
    "data['liquidable_debt_at_interval'] = data['liquidable_debt'].diff().abs()\n",
    "data.dropna(inplace = True)"
   ]
  }
 ],
 "metadata": {
  "kernelspec": {
   "display_name": "Python 3 (ipykernel)",
   "language": "python",
   "name": "python3"
  },
  "language_info": {
   "codemirror_mode": {
    "name": "ipython",
    "version": 3
   },
   "file_extension": ".py",
   "mimetype": "text/x-python",
   "name": "python",
   "nbconvert_exporter": "python",
   "pygments_lexer": "ipython3",
   "version": "3.10.13"
  }
 },
 "nbformat": 4,
 "nbformat_minor": 5
}
