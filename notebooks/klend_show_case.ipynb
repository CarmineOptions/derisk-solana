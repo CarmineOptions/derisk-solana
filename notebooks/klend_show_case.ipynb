{
 "cells": [
  {
   "cell_type": "code",
   "execution_count": 1,
   "id": "e3b16a67",
   "metadata": {},
   "outputs": [],
   "source": [
    "import base64\n",
    "import based58\n",
    "import sys\n",
    "import json\n",
    "import os\n",
    "import time\n",
    "from pathlib import Path\n",
    "\n",
    "import solana.rpc.api\n",
    "from solders.signature import Signature\n",
    "from solana.exceptions import SolanaRpcException\n",
    "from solders.rpc.responses import GetTransactionResp\n",
    "\n",
    "from src.tx_decoder import TransactionDecoder\n",
    "\n",
    "\n",
    "%load_ext autoreload\n",
    "%autoreload 2\n",
    "sys.path.append('..')\n",
    "\n",
    "\n",
    "ppk = \"KLend2g3cP87fffoy8q1mQqGKjrxjC8boSyAYavgmjD\"\n",
    "idl_path = \"../kamino_idl.json\"\n",
    "\n",
    "\n",
    "def get_tx(tx_signature):\n",
    "    try:\n",
    "        transaction = solana_client.get_transaction(\n",
    "            tx_signature.signature, \n",
    "#             Signature.from_string(\n",
    "#                 \"4if5hzfKbJSxbA13ReBca2sY6kbAias7FseHG1QdUCHqSjhG4eNbGoz96TbBSNmCGoSQfKWx5gMtDVgxNb1iUV2M\"\n",
    "#             ),\n",
    "            'jsonParsed', \n",
    "            max_supported_transaction_version=0\n",
    "        )\n",
    "        return transaction\n",
    "    except SolanaRpcException as e:\n",
    "        print(f\"SolanaRpcException while fetching {str(tx_signature.signature)}\")\n",
    "        time.sleep(0.5)\n",
    "        return get_tx(tx_signature)\n",
    "\n",
    "    \n",
    "def tx_printout(tx_parsed):\n",
    "    print('===========logs============')\n",
    "    for log, value in tx_parsed['logs'].items():\n",
    "        print(f\"{log} \\n\")\n",
    "        print(f'      Parsed: {value} \\n')\n",
    "    \n",
    "    print('=========relevant instructions=========')\n",
    "    for program_id, instruction_data in tx_parsed['instructons']:\n",
    "        print(f\"Program ID: {program_id} \\n   {instruction_data}\")\n",
    "    \n",
    "    print('============Account Balances==========')\n",
    "    for i in tx_parsed['account_balances']:\n",
    "        print(i)\n",
    "        \n",
    "    print('============Token Balances==========')\n",
    "    for i in tx_parsed['token_balances']:\n",
    "        print(f\"{i} \\n\")       \n",
    "     \n",
    "\n",
    "    \n",
    "def decode(sign):\n",
    "    ppk = \"KLend2g3cP87fffoy8q1mQqGKjrxjC8boSyAYavgmjD\"\n",
    "\n",
    "    tx_decoder = TransactionDecoder(\n",
    "        Path('../kamino_idl.json'),\n",
    "        solana.rpc.api.Pubkey.from_string(ppk)\n",
    "    )\n",
    "\n",
    "    transaction = solana_client.get_transaction(\n",
    "        Signature.from_string(\n",
    "            sign\n",
    "        ), \n",
    "        'jsonParsed', \n",
    "        max_supported_transaction_version=0\n",
    "    )\n",
    "\n",
    "    instructions, logs, acc_balance, tokens = tx_decoder.decode_transaction(transaction.value.transaction)\n",
    "\n",
    "    tx_parsed = {\n",
    "        'instructions': instructions, 'logs': logs,\n",
    "        'account_balances': acc_balance, 'token_balances': tokens\n",
    "    }\n",
    "    return  tx_parsed"
   ]
  },
  {
   "cell_type": "markdown",
   "id": "ff17d87b",
   "metadata": {},
   "source": [
    "## Parse transactions from oldest to newest\n",
    "- limited to one signer/ one mf account.\n"
   ]
  },
  {
   "cell_type": "code",
   "execution_count": 2,
   "id": "b61c98d6",
   "metadata": {},
   "outputs": [],
   "source": [
    "solana_client = solana.rpc.api.Client(os.getenv(\"RPC_URL\"))\n",
    "\n",
    "tx_decoder = TransactionDecoder(\n",
    "    idl_path,  # mf ild\n",
    "    solana.rpc.api.Pubkey.from_string(ppk)  # margin fi\n",
    ")"
   ]
  },
  {
   "cell_type": "code",
   "execution_count": 3,
   "id": "57add503",
   "metadata": {},
   "outputs": [],
   "source": [
    "signer = solana.rpc.api.Pubkey.from_string(\"3VRc3v3w7GJYRrdwNnfpFeh9YqeBZUVeWwe9BJ2hrhhE\")"
   ]
  },
  {
   "cell_type": "code",
   "execution_count": 4,
   "id": "95702810",
   "metadata": {},
   "outputs": [
    {
     "name": "stdout",
     "output_type": "stream",
     "text": [
      "259\n"
     ]
    }
   ],
   "source": [
    "signer_tx_sinatures = solana_client.get_signatures_for_address(\n",
    "    signer,\n",
    "    limit = 1000\n",
    ")\n",
    "print(len(signer_tx_sinatures.value))"
   ]
  },
  {
   "cell_type": "code",
   "execution_count": null,
   "id": "cde377dc",
   "metadata": {
    "scrolled": true
   },
   "outputs": [
    {
     "name": "stdout",
     "output_type": "stream",
     "text": [
      "Transactions to collect: 259\n",
      "1\n",
      "2\n",
      "3\n",
      "4\n",
      "5\n",
      "6\n",
      "7\n",
      "8\n",
      "9\n",
      "10\n",
      "11\n",
      "12\n",
      "13\n",
      "14\n",
      "15\n",
      "16\n",
      "17\n",
      "18\n",
      "19\n",
      "20\n",
      "21\n",
      "22\n",
      "23\n",
      "24\n",
      "25\n",
      "26\n",
      "27\n",
      "28\n",
      "29\n",
      "30\n",
      "31\n",
      "32\n",
      "33\n",
      "34\n",
      "35\n",
      "36\n",
      "37\n",
      "38\n",
      "39\n",
      "40\n",
      "41\n",
      "42\n",
      "43\n"
     ]
    }
   ],
   "source": [
    "# collect signatures related to marginfi account:\n",
    "account = solana.rpc.api.Pubkey.from_string(\"3VRc3v3w7GJYRrdwNnfpFeh9YqeBZUVeWwe9BJ2hrhhE\")\n",
    "acc_tx_sinatures = solana_client.get_signatures_for_address(\n",
    "    account,\n",
    "    limit = 1000\n",
    ")\n",
    "print(f\"Transactions to collect: {len(acc_tx_sinatures.value)}\")\n",
    "# collect mf account related txs\n",
    "acc_txs = list()\n",
    "\n",
    "for idx, tx in enumerate(acc_tx_sinatures.value):\n",
    "    print(idx+1)\n",
    "    signature = tx.signature\n",
    "    transaction = get_tx(tx)\n",
    "    acc_txs.append(transaction)\n",
    "print(f\"Collected: {len(acc_txs)}\")"
   ]
  },
  {
   "cell_type": "code",
   "execution_count": null,
   "id": "5cec3a20",
   "metadata": {},
   "outputs": [],
   "source": [
    "def dump_json_to_file(json_data, file_path):\n",
    "    with open(file_path, 'w') as file:\n",
    "        json.dump(json_data, file, indent=4)\n",
    "\n",
    "def load_json_from_file(file_path):\n",
    "    with open(file_path, 'r') as file:\n",
    "        return json.load(file)\n",
    "\n",
    "\n",
    "# path = './mf_txs/'\n",
    "# for num, tx in enumerate(mfacc_txs):\n",
    "#     dump_json_to_file(tx.to_json(), os.path.join(path, f\"{'{:03d}'.format(num)}.json\"))"
   ]
  },
  {
   "cell_type": "code",
   "execution_count": null,
   "id": "9ba9fe55",
   "metadata": {},
   "outputs": [],
   "source": [
    "acc_txs.reverse()"
   ]
  },
  {
   "cell_type": "markdown",
   "id": "1a9ef652",
   "metadata": {},
   "source": [
    "## GET data ffrom local storage:"
   ]
  },
  {
   "cell_type": "code",
   "execution_count": null,
   "id": "ce73a37e",
   "metadata": {},
   "outputs": [],
   "source": [
    "\n",
    "for i, tx in enumerate(mfacc_txs):\n",
    "    print(f\"============ {i} =============\", str(tx.value.transaction.transaction.signatures[0]))\n",
    "    for log in tx.value.transaction.meta.log_messages:\n",
    "        print(log)"
   ]
  },
  {
   "cell_type": "code",
   "execution_count": 7,
   "id": "3eabad8f",
   "metadata": {},
   "outputs": [
    {
     "name": "stdout",
     "output_type": "stream",
     "text": [
      "Events collected: 0\n",
      "Events collected: 0\n"
     ]
    }
   ],
   "source": [
    "# print(f\"Events collected: {len(tx_decoder.events)}\")\n",
    "\n",
    "# for tx in mfacc_txs:\n",
    "#     tx_decoder.decode(tx.value.transaction, tx.value.slot)\n",
    "    \n",
    "# print(f\"Events collected: {len(tx_decoder.events)}\") "
   ]
  },
  {
   "cell_type": "code",
   "execution_count": null,
   "id": "2fd925b7",
   "metadata": {},
   "outputs": [],
   "source": [
    "instructions = ['initLendingMarket',\n",
    " 'updateLendingMarket',\n",
    " 'updateLendingMarketOwner',\n",
    " 'initReserve',\n",
    " 'initFarmsForReserve',\n",
    " 'updateSingleReserveConfig',\n",
    " 'updateEntireReserveConfig',\n",
    " 'refreshReserve',\n",
    " 'depositReserveLiquidity',\n",
    " 'redeemReserveCollateral',\n",
    " 'initObligation',\n",
    " 'initObligationFarmsForReserve',\n",
    " 'refreshObligationFarmsForReserve',\n",
    " 'refreshObligation',\n",
    " 'depositObligationCollateral',\n",
    " 'withdrawObligationCollateral',\n",
    " 'borrowObligationLiquidity',\n",
    " 'repayObligationLiquidity',\n",
    " 'depositReserveLiquidityAndObligationCollateral',\n",
    " 'withdrawObligationCollateralAndRedeemReserveCollateral',\n",
    " 'liquidateObligationAndRedeemReserveCollateral',\n",
    " 'redeemFees',\n",
    " 'flashRepayReserveLiquidity',\n",
    " 'flashBorrowReserveLiquidity',\n",
    " 'socializeLoss',\n",
    " 'requestElevationGroup',\n",
    " 'initReferrerTokenState',\n",
    " 'initUserMetadata',\n",
    " 'withdrawReferrerFees',\n",
    " 'withdrawProtocolFee',\n",
    " 'initReferrerStateAndShortUrl',\n",
    " 'deleteReferrerStateAndShortUrl',\n",
    " 'updateUserMetadataOwner']\n",
    "\n",
    "entity = dict()\n",
    "\n",
    "for i, tx in enumerate(acc_txs):\n",
    "    signature = str(acc_txs[0].value.transaction.transaction.signatures[0])\n",
    "#     decoded_tx = decode(signature)\n",
    "    logs = tx.value.transaction.meta.log_messages\n",
    "    print(f\"=================== {i} ================\")\n",
    "#     print(logs)\n",
    "    for l in logs:\n",
    "        if [instr for instr in instructions if instr.lower() in l.lower()]:\n",
    "            print(l)\n"
   ]
  }
 ],
 "metadata": {
  "kernelspec": {
   "display_name": "sln",
   "language": "python",
   "name": "sln"
  },
  "language_info": {
   "codemirror_mode": {
    "name": "ipython",
    "version": 3
   },
   "file_extension": ".py",
   "mimetype": "text/x-python",
   "name": "python",
   "nbconvert_exporter": "python",
   "pygments_lexer": "ipython3",
   "version": "3.10.9"
  }
 },
 "nbformat": 4,
 "nbformat_minor": 5
}
